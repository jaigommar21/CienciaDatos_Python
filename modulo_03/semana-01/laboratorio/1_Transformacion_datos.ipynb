{
 "cells": [
  {
   "cell_type": "markdown",
   "metadata": {},
   "source": [
    "# Transformación de datos\n",
    "\n",
    "https://www.kaggle.com/toramky/automobile-dataset/version/2\n",
    "\n",
    "- Metodologia IBM : https://www.ibm.com/downloads/cas/WKK9DX51\n",
    "- Metodologia CRISP-DM : https://en.wikipedia.org/wiki/Cross-industry_standard_process_for_data_mining"
   ]
  },
  {
   "cell_type": "code",
   "execution_count": 2,
   "metadata": {},
   "outputs": [],
   "source": [
    "import pandas as pd"
   ]
  },
  {
   "cell_type": "code",
   "execution_count": 3,
   "metadata": {},
   "outputs": [
    {
     "data": {
      "text/html": [
       "<div>\n",
       "<style scoped>\n",
       "    .dataframe tbody tr th:only-of-type {\n",
       "        vertical-align: middle;\n",
       "    }\n",
       "\n",
       "    .dataframe tbody tr th {\n",
       "        vertical-align: top;\n",
       "    }\n",
       "\n",
       "    .dataframe thead th {\n",
       "        text-align: right;\n",
       "    }\n",
       "</style>\n",
       "<table border=\"1\" class=\"dataframe\">\n",
       "  <thead>\n",
       "    <tr style=\"text-align: right;\">\n",
       "      <th></th>\n",
       "      <th>symboling</th>\n",
       "      <th>normalized-losses</th>\n",
       "      <th>make</th>\n",
       "      <th>fuel-type</th>\n",
       "      <th>aspiration</th>\n",
       "      <th>num-of-doors</th>\n",
       "      <th>body-style</th>\n",
       "      <th>drive-wheels</th>\n",
       "      <th>engine-location</th>\n",
       "      <th>wheel-base</th>\n",
       "      <th>...</th>\n",
       "      <th>engine-size</th>\n",
       "      <th>fuel-system</th>\n",
       "      <th>bore</th>\n",
       "      <th>stroke</th>\n",
       "      <th>compression-ratio</th>\n",
       "      <th>horsepower</th>\n",
       "      <th>peak-rpm</th>\n",
       "      <th>city-mpg</th>\n",
       "      <th>highway-mpg</th>\n",
       "      <th>price</th>\n",
       "    </tr>\n",
       "  </thead>\n",
       "  <tbody>\n",
       "    <tr>\n",
       "      <th>0</th>\n",
       "      <td>3</td>\n",
       "      <td>?</td>\n",
       "      <td>alfa-romero</td>\n",
       "      <td>gas</td>\n",
       "      <td>std</td>\n",
       "      <td>two</td>\n",
       "      <td>convertible</td>\n",
       "      <td>rwd</td>\n",
       "      <td>front</td>\n",
       "      <td>88.6</td>\n",
       "      <td>...</td>\n",
       "      <td>130</td>\n",
       "      <td>mpfi</td>\n",
       "      <td>3.47</td>\n",
       "      <td>2.68</td>\n",
       "      <td>9.0</td>\n",
       "      <td>111</td>\n",
       "      <td>5000</td>\n",
       "      <td>21</td>\n",
       "      <td>27</td>\n",
       "      <td>13495</td>\n",
       "    </tr>\n",
       "    <tr>\n",
       "      <th>1</th>\n",
       "      <td>3</td>\n",
       "      <td>?</td>\n",
       "      <td>alfa-romero</td>\n",
       "      <td>gas</td>\n",
       "      <td>std</td>\n",
       "      <td>two</td>\n",
       "      <td>convertible</td>\n",
       "      <td>rwd</td>\n",
       "      <td>front</td>\n",
       "      <td>88.6</td>\n",
       "      <td>...</td>\n",
       "      <td>130</td>\n",
       "      <td>mpfi</td>\n",
       "      <td>3.47</td>\n",
       "      <td>2.68</td>\n",
       "      <td>9.0</td>\n",
       "      <td>111</td>\n",
       "      <td>5000</td>\n",
       "      <td>21</td>\n",
       "      <td>27</td>\n",
       "      <td>16500</td>\n",
       "    </tr>\n",
       "    <tr>\n",
       "      <th>2</th>\n",
       "      <td>1</td>\n",
       "      <td>?</td>\n",
       "      <td>alfa-romero</td>\n",
       "      <td>gas</td>\n",
       "      <td>std</td>\n",
       "      <td>two</td>\n",
       "      <td>hatchback</td>\n",
       "      <td>rwd</td>\n",
       "      <td>front</td>\n",
       "      <td>94.5</td>\n",
       "      <td>...</td>\n",
       "      <td>152</td>\n",
       "      <td>mpfi</td>\n",
       "      <td>2.68</td>\n",
       "      <td>3.47</td>\n",
       "      <td>9.0</td>\n",
       "      <td>154</td>\n",
       "      <td>5000</td>\n",
       "      <td>19</td>\n",
       "      <td>26</td>\n",
       "      <td>16500</td>\n",
       "    </tr>\n",
       "    <tr>\n",
       "      <th>3</th>\n",
       "      <td>2</td>\n",
       "      <td>164</td>\n",
       "      <td>audi</td>\n",
       "      <td>gas</td>\n",
       "      <td>std</td>\n",
       "      <td>four</td>\n",
       "      <td>sedan</td>\n",
       "      <td>fwd</td>\n",
       "      <td>front</td>\n",
       "      <td>99.8</td>\n",
       "      <td>...</td>\n",
       "      <td>109</td>\n",
       "      <td>mpfi</td>\n",
       "      <td>3.19</td>\n",
       "      <td>3.4</td>\n",
       "      <td>10.0</td>\n",
       "      <td>102</td>\n",
       "      <td>5500</td>\n",
       "      <td>24</td>\n",
       "      <td>30</td>\n",
       "      <td>13950</td>\n",
       "    </tr>\n",
       "    <tr>\n",
       "      <th>4</th>\n",
       "      <td>2</td>\n",
       "      <td>164</td>\n",
       "      <td>audi</td>\n",
       "      <td>gas</td>\n",
       "      <td>std</td>\n",
       "      <td>four</td>\n",
       "      <td>sedan</td>\n",
       "      <td>4wd</td>\n",
       "      <td>front</td>\n",
       "      <td>99.4</td>\n",
       "      <td>...</td>\n",
       "      <td>136</td>\n",
       "      <td>mpfi</td>\n",
       "      <td>3.19</td>\n",
       "      <td>3.4</td>\n",
       "      <td>8.0</td>\n",
       "      <td>115</td>\n",
       "      <td>5500</td>\n",
       "      <td>18</td>\n",
       "      <td>22</td>\n",
       "      <td>17450</td>\n",
       "    </tr>\n",
       "  </tbody>\n",
       "</table>\n",
       "<p>5 rows × 26 columns</p>\n",
       "</div>"
      ],
      "text/plain": [
       "   symboling normalized-losses         make fuel-type aspiration num-of-doors  \\\n",
       "0          3                 ?  alfa-romero       gas        std          two   \n",
       "1          3                 ?  alfa-romero       gas        std          two   \n",
       "2          1                 ?  alfa-romero       gas        std          two   \n",
       "3          2               164         audi       gas        std         four   \n",
       "4          2               164         audi       gas        std         four   \n",
       "\n",
       "    body-style drive-wheels engine-location  wheel-base  ...  engine-size  \\\n",
       "0  convertible          rwd           front        88.6  ...          130   \n",
       "1  convertible          rwd           front        88.6  ...          130   \n",
       "2    hatchback          rwd           front        94.5  ...          152   \n",
       "3        sedan          fwd           front        99.8  ...          109   \n",
       "4        sedan          4wd           front        99.4  ...          136   \n",
       "\n",
       "   fuel-system  bore  stroke compression-ratio horsepower  peak-rpm city-mpg  \\\n",
       "0         mpfi  3.47    2.68               9.0        111      5000       21   \n",
       "1         mpfi  3.47    2.68               9.0        111      5000       21   \n",
       "2         mpfi  2.68    3.47               9.0        154      5000       19   \n",
       "3         mpfi  3.19     3.4              10.0        102      5500       24   \n",
       "4         mpfi  3.19     3.4               8.0        115      5500       18   \n",
       "\n",
       "  highway-mpg  price  \n",
       "0          27  13495  \n",
       "1          27  16500  \n",
       "2          26  16500  \n",
       "3          30  13950  \n",
       "4          22  17450  \n",
       "\n",
       "[5 rows x 26 columns]"
      ]
     },
     "execution_count": 3,
     "metadata": {},
     "output_type": "execute_result"
    }
   ],
   "source": [
    "# Lectura\n",
    "df = pd.read_csv(\"Automobile_data.csv\")\n",
    "\n",
    "# Mostramos los primeros 5 registros\n",
    "df.head()"
   ]
  },
  {
   "cell_type": "code",
   "execution_count": 4,
   "metadata": {},
   "outputs": [
    {
     "data": {
      "text/plain": [
       "Index(['symboling', 'normalized-losses', 'make', 'fuel-type', 'aspiration',\n",
       "       'num-of-doors', 'body-style', 'drive-wheels', 'engine-location',\n",
       "       'wheel-base', 'length', 'width', 'height', 'curb-weight', 'engine-type',\n",
       "       'num-of-cylinders', 'engine-size', 'fuel-system', 'bore', 'stroke',\n",
       "       'compression-ratio', 'horsepower', 'peak-rpm', 'city-mpg',\n",
       "       'highway-mpg', 'price'],\n",
       "      dtype='object')"
      ]
     },
     "execution_count": 4,
     "metadata": {},
     "output_type": "execute_result"
    }
   ],
   "source": [
    "# Muestra los nombres de las columnas\n",
    "df.columns"
   ]
  },
  {
   "cell_type": "markdown",
   "metadata": {},
   "source": [
    "## Descripción de las variables\n",
    "\n",
    "- 'symboling' : Nivel de riesgo del seguro , de menor riesgo (-3) a mayor riesgto (3)\n",
    "- \"normalized-losses\" : Es la perdida del pago promedio del seguro del auto por año y representa la perdida por año del auto. El valor oscila entre 65 a 256\n",
    "- 'make' : Marca\n",
    "- \"aspiration\" : Como el motor de combustión interno trabaja , puede ser estandar (std) o turbo \n",
    "- 'num-of-doors' : Número de puertas\n",
    "- \"body-style\" : Carroceria\n",
    "- 'drive-wheels' : Tracción de las ruedas\n",
    "- 'engine-location' : Localización del motor\n",
    "- 'wheel-base' : Distancia entre ejes \n",
    "- 'length' : Longitud\n",
    "- 'width' : Ancho\n",
    "- 'height': Alto\n",
    "- 'curb-weight' : Peso del auto con equipación completa\n",
    "- 'engine-type': Tipo de motor\n",
    "- 'num-of-cylinders' : Número de cilindros\n",
    "- 'engine-size' : Tamaño del motor\n",
    "- 'fuel-system' : Sistema de combustible\n",
    "- 'bore' : Diámetro\n",
    "- 'stroke' : Distancia recorrida por el pistón durante cada ciclo\n",
    "- 'compression-ratio': Ratio de comprensión\n",
    "- 'horsepower' : Caballos de potencia\n",
    "- 'horsepower-binned' : Caballos de potencia convertidos en una variable categórica \n",
    "- 'peak-rpm' : RPM pico \n",
    "- 'city-mpg' : consumo en la ciudad en millas por galon\n",
    "- 'highway-mpg' : consumo en autopista en millas por galon\n",
    "- 'price' : Precio\n",
    "- 'city-L/100km' :  consumo en la ciudad en litros por kilometro\n",
    "- 'diesel' : variable dummy para consumo por petróleo\n",
    "- 'gas': variable dummy para consumo por gasoina"
   ]
  },
  {
   "cell_type": "code",
   "execution_count": null,
   "metadata": {},
   "outputs": [],
   "source": [
    "# Ejercicio : Mostrar los 8 últimos registros\n",
    "df.tail(8)"
   ]
  },
  {
   "cell_type": "code",
   "execution_count": null,
   "metadata": {},
   "outputs": [],
   "source": [
    "# Ejercicio : Mostrar los 5 primeros registros que contentan los campos\n",
    "#  symboling, normalized-losses , make"
   ]
  },
  {
   "cell_type": "code",
   "execution_count": 6,
   "metadata": {},
   "outputs": [
    {
     "data": {
      "text/plain": [
       "0    3\n",
       "1    3\n",
       "2    1\n",
       "3    2\n",
       "4    2\n",
       "Name: symboling, dtype: int64"
      ]
     },
     "execution_count": 6,
     "metadata": {},
     "output_type": "execute_result"
    }
   ],
   "source": [
    "# Formato obtenido , una serie\n",
    "df[\"symboling\"].head()"
   ]
  },
  {
   "cell_type": "code",
   "execution_count": 9,
   "metadata": {},
   "outputs": [
    {
     "data": {
      "text/html": [
       "<div>\n",
       "<style scoped>\n",
       "    .dataframe tbody tr th:only-of-type {\n",
       "        vertical-align: middle;\n",
       "    }\n",
       "\n",
       "    .dataframe tbody tr th {\n",
       "        vertical-align: top;\n",
       "    }\n",
       "\n",
       "    .dataframe thead th {\n",
       "        text-align: right;\n",
       "    }\n",
       "</style>\n",
       "<table border=\"1\" class=\"dataframe\">\n",
       "  <thead>\n",
       "    <tr style=\"text-align: right;\">\n",
       "      <th></th>\n",
       "      <th>symboling</th>\n",
       "    </tr>\n",
       "  </thead>\n",
       "  <tbody>\n",
       "    <tr>\n",
       "      <th>0</th>\n",
       "      <td>3</td>\n",
       "    </tr>\n",
       "    <tr>\n",
       "      <th>1</th>\n",
       "      <td>3</td>\n",
       "    </tr>\n",
       "    <tr>\n",
       "      <th>2</th>\n",
       "      <td>1</td>\n",
       "    </tr>\n",
       "    <tr>\n",
       "      <th>3</th>\n",
       "      <td>2</td>\n",
       "    </tr>\n",
       "    <tr>\n",
       "      <th>4</th>\n",
       "      <td>2</td>\n",
       "    </tr>\n",
       "  </tbody>\n",
       "</table>\n",
       "</div>"
      ],
      "text/plain": [
       "   symboling\n",
       "0          3\n",
       "1          3\n",
       "2          1\n",
       "3          2\n",
       "4          2"
      ]
     },
     "execution_count": 9,
     "metadata": {},
     "output_type": "execute_result"
    }
   ],
   "source": [
    "# Formato obtenido , una dataframe\n",
    "df[[\"symboling\"]].head()"
   ]
  },
  {
   "cell_type": "code",
   "execution_count": 11,
   "metadata": {},
   "outputs": [
    {
     "data": {
      "text/html": [
       "<div>\n",
       "<style scoped>\n",
       "    .dataframe tbody tr th:only-of-type {\n",
       "        vertical-align: middle;\n",
       "    }\n",
       "\n",
       "    .dataframe tbody tr th {\n",
       "        vertical-align: top;\n",
       "    }\n",
       "\n",
       "    .dataframe thead th {\n",
       "        text-align: right;\n",
       "    }\n",
       "</style>\n",
       "<table border=\"1\" class=\"dataframe\">\n",
       "  <thead>\n",
       "    <tr style=\"text-align: right;\">\n",
       "      <th></th>\n",
       "      <th>symboling</th>\n",
       "      <th>normalized-losses</th>\n",
       "      <th>make</th>\n",
       "    </tr>\n",
       "  </thead>\n",
       "  <tbody>\n",
       "    <tr>\n",
       "      <th>0</th>\n",
       "      <td>3</td>\n",
       "      <td>?</td>\n",
       "      <td>alfa-romero</td>\n",
       "    </tr>\n",
       "    <tr>\n",
       "      <th>1</th>\n",
       "      <td>3</td>\n",
       "      <td>?</td>\n",
       "      <td>alfa-romero</td>\n",
       "    </tr>\n",
       "    <tr>\n",
       "      <th>2</th>\n",
       "      <td>1</td>\n",
       "      <td>?</td>\n",
       "      <td>alfa-romero</td>\n",
       "    </tr>\n",
       "    <tr>\n",
       "      <th>3</th>\n",
       "      <td>2</td>\n",
       "      <td>164</td>\n",
       "      <td>audi</td>\n",
       "    </tr>\n",
       "    <tr>\n",
       "      <th>4</th>\n",
       "      <td>2</td>\n",
       "      <td>164</td>\n",
       "      <td>audi</td>\n",
       "    </tr>\n",
       "  </tbody>\n",
       "</table>\n",
       "</div>"
      ],
      "text/plain": [
       "   symboling normalized-losses         make\n",
       "0          3                 ?  alfa-romero\n",
       "1          3                 ?  alfa-romero\n",
       "2          1                 ?  alfa-romero\n",
       "3          2               164         audi\n",
       "4          2               164         audi"
      ]
     },
     "execution_count": 11,
     "metadata": {},
     "output_type": "execute_result"
    }
   ],
   "source": [
    "# Formato obtenido , una dataframe\n",
    "df[[\"symboling\",\"normalized-losses\",\"make\"]].head()"
   ]
  },
  {
   "cell_type": "code",
   "execution_count": 16,
   "metadata": {},
   "outputs": [
    {
     "data": {
      "text/plain": [
       "126.90731707317073"
      ]
     },
     "execution_count": 16,
     "metadata": {},
     "output_type": "execute_result"
    }
   ],
   "source": [
    "# Ejercicio : la media  y mediana del engine-size\n",
    "\n",
    "# Media\n",
    "df[\"engine-size\"].mean()"
   ]
  },
  {
   "cell_type": "code",
   "execution_count": 17,
   "metadata": {},
   "outputs": [
    {
     "data": {
      "text/plain": [
       "120.0"
      ]
     },
     "execution_count": 17,
     "metadata": {},
     "output_type": "execute_result"
    }
   ],
   "source": [
    "# Mediana\n",
    "df[\"engine-size\"].median()"
   ]
  },
  {
   "cell_type": "code",
   "execution_count": null,
   "metadata": {},
   "outputs": [],
   "source": [
    "# Ejercicio : la media  y mediana del price"
   ]
  },
  {
   "cell_type": "code",
   "execution_count": null,
   "metadata": {},
   "outputs": [],
   "source": [
    "# Problemas con los datos perdidos\n",
    "\n",
    "#df['price'].astype('float').mean() # ..... ? x np.nan "
   ]
  },
  {
   "cell_type": "code",
   "execution_count": null,
   "metadata": {},
   "outputs": [],
   "source": [
    "df.describe()"
   ]
  },
  {
   "cell_type": "code",
   "execution_count": null,
   "metadata": {},
   "outputs": [],
   "source": [
    "df.describe().round(2)"
   ]
  },
  {
   "cell_type": "markdown",
   "metadata": {},
   "source": [
    "### Ejercicio : crear un dataframe con los campos : \"symboling\",\"normalized-losses\",\"make\",\"fuel-type\" y \"price\""
   ]
  },
  {
   "cell_type": "markdown",
   "metadata": {},
   "source": [
    "# 1. - Procedimiento para gestionar datos perdidos\n",
    "\n",
    "<ol>\n",
    "    <ul>1.1.- Identificar datos perdidos</ul>\n",
    "    <ul>1.2.- Tratamiento de datos perdidos</ul>\n",
    "    <ul>1.3.- Corregir formato de datos</ul>\n",
    "</ol>\n"
   ]
  },
  {
   "cell_type": "markdown",
   "metadata": {},
   "source": [
    "## 1.1.- Identificar datos perdidos"
   ]
  },
  {
   "cell_type": "code",
   "execution_count": null,
   "metadata": {},
   "outputs": [],
   "source": [
    "nro_price_validate = df['price'].loc[df['price'] !='?'].count()\n",
    "nro_price_validate"
   ]
  },
  {
   "cell_type": "markdown",
   "metadata": {},
   "source": [
    "## ¿Cuántos registro existen de la variable dependiente price?\n"
   ]
  },
  {
   "cell_type": "code",
   "execution_count": null,
   "metadata": {},
   "outputs": [],
   "source": [
    "len(df)\n"
   ]
  },
  {
   "cell_type": "code",
   "execution_count": null,
   "metadata": {},
   "outputs": [],
   "source": [
    "nro_price_reg = df['price'].count()\n",
    "nro_price_reg"
   ]
  },
  {
   "cell_type": "code",
   "execution_count": null,
   "metadata": {},
   "outputs": [],
   "source": [
    "a=df[\"price\"].count()\n",
    "a"
   ]
  },
  {
   "cell_type": "code",
   "execution_count": null,
   "metadata": {},
   "outputs": [],
   "source": [
    "df[\"price\"].describe()\n"
   ]
  },
  {
   "cell_type": "code",
   "execution_count": null,
   "metadata": {},
   "outputs": [],
   "source": [
    "df.count()"
   ]
  },
  {
   "cell_type": "code",
   "execution_count": null,
   "metadata": {},
   "outputs": [],
   "source": [
    "nro_length_validate = df['length'].loc[df['length'] !='?'].count()\n",
    "nro_length_validate"
   ]
  },
  {
   "cell_type": "code",
   "execution_count": null,
   "metadata": {},
   "outputs": [],
   "source": [
    "nro_normalized_losses_validate = df['normalized-losses'].loc[df['normalized-losses'] !='?'].count()\n",
    "nro_normalized_losses_validate"
   ]
  },
  {
   "cell_type": "markdown",
   "metadata": {},
   "source": [
    "## ¿Podemos decir que la variable width tiene datos perdidos?"
   ]
  },
  {
   "cell_type": "code",
   "execution_count": null,
   "metadata": {},
   "outputs": [],
   "source": [
    "nro_width_validate = df['width'].loc[df['width'] !='?'].count()\n",
    "nro_width_validate"
   ]
  },
  {
   "cell_type": "code",
   "execution_count": null,
   "metadata": {},
   "outputs": [],
   "source": [
    "import numpy as np\n",
    "\n",
    "# replace \"?\" to NaN  --> np.nan\n",
    "#df_with_replace = df.replace(\"?\", np.nan, inplace = False)\n",
    "#df_with_replace.head(10)\n",
    "\n",
    "# replace \"?\" to NaN  --> np.nan\n",
    "df.replace(\"?\", np.nan, inplace = True)\n",
    "df.head()"
   ]
  },
  {
   "cell_type": "code",
   "execution_count": null,
   "metadata": {},
   "outputs": [],
   "source": [
    "# Se obtiene las variables con datos perdidos\n",
    "\n",
    "missing_data = df.isnull()\n",
    "missing_data.head(5)"
   ]
  },
  {
   "cell_type": "code",
   "execution_count": null,
   "metadata": {},
   "outputs": [],
   "source": [
    "# Contar datos perdidos por columnas\n",
    "\n",
    "for column in missing_data.columns.values.tolist():\n",
    "    print(column)\n",
    "    print(missing_data[column].value_counts())\n",
    "    print(\"\")"
   ]
  },
  {
   "cell_type": "markdown",
   "metadata": {},
   "source": [
    "<ol>\n",
    "    <li>\"normalized-losses\": 41 datos faltantes</li>\n",
    "    <li>\"num-of-doors\": 2 datos faltantes</li>\n",
    "    <li>\"bore\": 4 datos faltantes</li>\n",
    "    <li>\"stroke\" : 4 datos faltantes</li>\n",
    "    <li>\"horsepower\": 2 datos faltantes</li>\n",
    "    <li>\"peak-rpm\": 2 datos faltantes</li>\n",
    "    <li>\"price\": 4 datos faltantes</li>\n",
    "</ol>"
   ]
  },
  {
   "cell_type": "markdown",
   "metadata": {},
   "source": [
    "## ¿Cálcular el porcentaje de datos perdidos?"
   ]
  },
  {
   "cell_type": "code",
   "execution_count": null,
   "metadata": {},
   "outputs": [],
   "source": [
    "NRO_REG = len(df)\n",
    "\n",
    "for column in missing_data.columns.values.tolist():\n",
    "    s = missing_data[column].value_counts()\n",
    "    #print(type(missing_data[column].value_counts()))\n",
    "    if s[0] != NRO_REG :\n",
    "       print(\"-->\", column, \"tienen\", s[0] ,\" datos completos\")\n",
    "       percentaje_missing_data = ((NRO_REG - s[0])/NRO_REG)*100\n",
    "       print(round(percentaje_missing_data,0),\"%\")\n",
    "        "
   ]
  },
  {
   "cell_type": "markdown",
   "metadata": {},
   "source": [
    "<h2 id=\"deal_missing_values\">1.2.- Tratamiento de datos faltantes</h2>\n",
    "\n",
    "<b>Como tratar con datos faltantes?</b>\n",
    "\n",
    "<ol>\n",
    "    <li>borrar data<br>\n",
    "        a. borrar la fila entera<br>\n",
    "        b. borrar la columna entera<br>\n",
    "    </li>\n",
    "    <li>remplazar data<br>\n",
    "        a. remplazar el promedio --> variable númerica<br>\n",
    "        b. reemplazar la moda --> variable categoricas <br>\n",
    "        c. reemplazar basado en una función --> ¿?<br>\n",
    "    </li>\n",
    "</ol>"
   ]
  },
  {
   "cell_type": "markdown",
   "metadata": {},
   "source": [
    "Las columnas enteras solo deben descartarse si la mayoría de las entradas de la columna están vacías. En nuestro conjunto de datos, ninguna de las columnas está lo suficientemente vacía como para borrarlo por completo.\n",
    "Tenemos cierta libertad para elegir qué método reemplazar datos dependiendo la cantidad de datos faltantes; sin embargo, algunos métodos pueden parecer más razonables que otros. Se aplicaran los siguientes método :\n",
    "\n",
    "<b>Reemplazos por la media:</b>\n",
    "<ul>\n",
    "    <li>\"normalized-losses\": 41 datos perdidos, se reemplazar por la media ==> ¿QUE PASO?</li>\n",
    "    <li>\"stroke\": 4 datos perdidos, se reemplazar por la media</li>\n",
    "    <li>\"bore\": 4 datos perdidos, se reemplazar por la media</li>\n",
    "    <li>\"horsepower\": 2 datos perdidos, se reemplazar por la media</li>\n",
    "    <li>\"peak-rpm\": 2 datos perdidos, se reemplazar por la media</li>\n",
    "</ul>\n",
    "\n",
    "<b>Reemplazo por la moda:</b>\n",
    "<ul>\n",
    "    <li>\"num-of-doors\": 2 datos perdidos, se reemplazar por la moda que es : \"four\". \n",
    "    </li>\n",
    "</ul>\n",
    "\n",
    "<b>Eliminacion de toda una fila</b>\n",
    "<ul>\n",
    "    <li>\"price\": 4 datos perdidos, se elimina la fila\n",
    "        <ul>\n",
    "            <li>Razón: El precio es lo que queremos predecir. Cualquier entrada de datos sin datos de precios no se puede utilizar para la predicción; por lo tanto, cualquier fila ahora sin datos de precios no nos es útil</li>\n",
    "        </ul>\n",
    "    </li>\n",
    "</ul>"
   ]
  },
  {
   "cell_type": "markdown",
   "metadata": {},
   "source": [
    "### 1.- Reemplazo de datos faltantes por la media"
   ]
  },
  {
   "cell_type": "code",
   "execution_count": null,
   "metadata": {},
   "outputs": [],
   "source": [
    "df['price'].astype('float').mean()"
   ]
  },
  {
   "cell_type": "code",
   "execution_count": null,
   "metadata": {},
   "outputs": [],
   "source": [
    "# bore\n",
    "avg_bore=df['bore'].astype('float').mean(axis=0)\n",
    "avg_bore = round(avg_bore,4)\n",
    "print(\"Average of bore:\", avg_bore)\n",
    "df[\"bore\"].replace(np.nan, avg_bore, inplace=True)\n"
   ]
  },
  {
   "cell_type": "markdown",
   "metadata": {},
   "source": [
    "### Ejercicio : reemplazar la media para las variables númericas \n",
    "<ul>\n",
    "    <li>\"normalized-losses\": 41 datos perdidos, se reemplazar por la media</li>\n",
    "    <li>\"stroke\": 4 datos perdidos, se reemplazar por la media</li>\n",
    "    <li>\"horsepower\": 2 datos perdidos, se reemplazar por la media</li>\n",
    "    <li>\"peak-rpm\": 2 datos perdidos, se reemplazar por la media</li>\n",
    "</ul>"
   ]
  },
  {
   "cell_type": "code",
   "execution_count": null,
   "metadata": {},
   "outputs": [],
   "source": []
  },
  {
   "cell_type": "code",
   "execution_count": null,
   "metadata": {},
   "outputs": [],
   "source": [
    "# stroke\n"
   ]
  },
  {
   "cell_type": "code",
   "execution_count": null,
   "metadata": {},
   "outputs": [],
   "source": [
    "# horsepower\n",
    "avg_horsepower=df['horsepower'].astype('float').mean(axis=0)\n",
    "avg_horsepower = round(avg_horsepower,4)\n",
    "print(\"Average of horsepower:\", avg_horsepower)\n",
    "df[\"horsepower\"].replace(np.nan, avg_horsepower, inplace=True)"
   ]
  },
  {
   "cell_type": "code",
   "execution_count": null,
   "metadata": {},
   "outputs": [],
   "source": [
    "# peak-rpm\n"
   ]
  },
  {
   "cell_type": "code",
   "execution_count": null,
   "metadata": {},
   "outputs": [],
   "source": [
    "# \"stroke\", \"peak-rpm\", \"horsepower\"\n",
    "for i in [\"stroke\", \"peak-rpm\", \"horsepower\",\"normalized-losses\"]:\n",
    "    avg= df[i].astype(\"float\").mean()\n",
    "    df[i].replace(np.nan, avg, inplace=True)\n"
   ]
  },
  {
   "cell_type": "markdown",
   "metadata": {},
   "source": [
    "### 2.- Reemplazo de datos faltantes por la moda ( Reemplazo de datos faltantes para variables categoricas )"
   ]
  },
  {
   "cell_type": "code",
   "execution_count": null,
   "metadata": {},
   "outputs": [],
   "source": [
    "df.head()"
   ]
  },
  {
   "cell_type": "code",
   "execution_count": null,
   "metadata": {},
   "outputs": [],
   "source": [
    "# Buscando la moda\n",
    "df[\"num-of-doors\"].value_counts()"
   ]
  },
  {
   "cell_type": "code",
   "execution_count": null,
   "metadata": {},
   "outputs": [],
   "source": [
    "# Otra manera de visualizar moda\n",
    "df['num-of-doors'].value_counts().idxmax()"
   ]
  },
  {
   "cell_type": "code",
   "execution_count": null,
   "metadata": {},
   "outputs": [],
   "source": [
    "# Se reemplaza con la moda\n",
    "df[\"num-of-doors\"].replace(np.nan, \"four\", inplace=True)\n"
   ]
  },
  {
   "cell_type": "markdown",
   "metadata": {},
   "source": [
    "### variable númerica --> son int, float, \n",
    "### variable categorica --> son descripciones en forma de texto\n",
    "\n",
    "### variable independientes\n",
    "### variable dependientes\n",
    "\n",
    "\n",
    "#### Diferentes variables independientes : stroke num-of-doors ,etc  \n",
    "\n",
    "\n",
    "\n",
    "\n"
   ]
  },
  {
   "cell_type": "markdown",
   "metadata": {},
   "source": [
    "### 3.- Eliminación de datos faltantes para la variable dependientes ( price)"
   ]
  },
  {
   "cell_type": "code",
   "execution_count": null,
   "metadata": {},
   "outputs": [],
   "source": [
    "df.dropna(subset=[\"price\"], axis=0, inplace = True)\n",
    "\n",
    "# reset index, porque se ha borrado 2 lineas\n",
    "# df.reset_index(drop=True, inplace=True)"
   ]
  },
  {
   "cell_type": "code",
   "execution_count": null,
   "metadata": {},
   "outputs": [],
   "source": [
    "len(df)"
   ]
  },
  {
   "cell_type": "code",
   "execution_count": null,
   "metadata": {},
   "outputs": [],
   "source": [
    "NRO_REG = len(df)\n",
    "\n",
    "for column in missing_data.columns.values.tolist():\n",
    "    s = missing_data[column].value_counts()\n",
    "    #print(type(missing_data[column].value_counts()))\n",
    "    if s[0] != NRO_REG :\n",
    "       print(\"-->\", column, \"tienen\", s[0] ,\" datos completos\")\n",
    "       percentaje_missing_data = ((NRO_REG - s[0])/NRO_REG)*100\n",
    "       print(round(percentaje_missing_data,0),\"%\")"
   ]
  },
  {
   "cell_type": "code",
   "execution_count": null,
   "metadata": {},
   "outputs": [],
   "source": [
    "# missing_data = df.isnull()\n",
    "\n",
    "# for column in missing_data.columns.values.tolist():\n",
    "#    print(column)\n",
    "#    print (missing_data[column].value_counts())\n",
    "#    print(\"\")\n"
   ]
  },
  {
   "cell_type": "code",
   "execution_count": null,
   "metadata": {},
   "outputs": [],
   "source": [
    "df.head()"
   ]
  },
  {
   "cell_type": "markdown",
   "metadata": {},
   "source": [
    " ## 1.3.- Correción de formato de datos  "
   ]
  },
  {
   "cell_type": "code",
   "execution_count": null,
   "metadata": {},
   "outputs": [],
   "source": [
    "df.dtypes"
   ]
  },
  {
   "cell_type": "markdown",
   "metadata": {},
   "source": [
    "<p> Como se observa, algunas columnas no son del tipo de datos correcto. Las variables numéricas deben tener el tipo 'float' o 'int', y las variables con cadenas como las categorías deben tener el tipo 'object'. Por ejemplo, las variables 'bore' y 'stroke' son valores numéricos que describen los motores, por lo que deberíamos esperar que sean del tipo 'float' o 'int'; sin embargo, se muestran como tipo 'object'. Tenemos que convertir los tipos de datos en un formato adecuado para cada columna utilizando el método \"astype ()\". </p>"
   ]
  },
  {
   "cell_type": "code",
   "execution_count": null,
   "metadata": {},
   "outputs": [],
   "source": [
    "df[\"price\"] = df[\"price\"].astype(\"float\")"
   ]
  },
  {
   "cell_type": "code",
   "execution_count": null,
   "metadata": {},
   "outputs": [],
   "source": [
    "df.dtypes"
   ]
  },
  {
   "cell_type": "markdown",
   "metadata": {},
   "source": [
    "### Ejercicio , cambiar el tipo de datos de las variables predictoras:\n",
    "\n",
    "   - \"bore\", \"stroke\", \"peak-rpm\" a float\n",
    "   - \"normalized-losses\" a int  "
   ]
  },
  {
   "cell_type": "code",
   "execution_count": null,
   "metadata": {},
   "outputs": [],
   "source": [
    "df.columns"
   ]
  },
  {
   "cell_type": "code",
   "execution_count": null,
   "metadata": {},
   "outputs": [],
   "source": [
    "df[\"bore\"] = df[\"bore\"].astype(\"float\")\n",
    "df[\"peak-rpm\"] = df[\"peak-rpm\"].astype(\"float\")\n",
    "df[\"stroke\"] = df[\"stroke\"].astype(\"float\")\n",
    "df[\"normalized-losses\"] = df[\"normalized-losses\"].astype(\"int\")"
   ]
  },
  {
   "cell_type": "code",
   "execution_count": null,
   "metadata": {},
   "outputs": [],
   "source": [
    "variables= [\"bore\", \"stroke\", \"peak-rpm\"]\n",
    "for i in variables:\n",
    "    df[i]=df[i].astype(\"float\")\n",
    "df[\"normalized-losses\"] = df[\"normalized-losses\"].astype(\"int\")"
   ]
  },
  {
   "cell_type": "code",
   "execution_count": null,
   "metadata": {},
   "outputs": [],
   "source": [
    "#df[\"normalized-losses\"]\n",
    "#df[\"normalized-losses\"] = df[\"normalized-losses\"].astype(\"int\")"
   ]
  },
  {
   "cell_type": "markdown",
   "metadata": {},
   "source": [
    "### Crear la columna \"price2\" en dataframe y completarlo con la siguiente formula\n",
    "\n",
    "$prices2 = price*2 + 5$\n"
   ]
  },
  {
   "cell_type": "code",
   "execution_count": null,
   "metadata": {},
   "outputs": [],
   "source": [
    "df.columns"
   ]
  },
  {
   "cell_type": "code",
   "execution_count": null,
   "metadata": {},
   "outputs": [],
   "source": [
    "df[\"price2\"]= df[\"price\"]*2+5"
   ]
  },
  {
   "cell_type": "code",
   "execution_count": null,
   "metadata": {},
   "outputs": [],
   "source": [
    "df.columns"
   ]
  },
  {
   "cell_type": "code",
   "execution_count": null,
   "metadata": {},
   "outputs": [],
   "source": [
    "df.loc[:,[\"price\", \"price2\"]].head()"
   ]
  },
  {
   "cell_type": "code",
   "execution_count": null,
   "metadata": {},
   "outputs": [],
   "source": [
    "df[[\"price\",\"price2\"]].head()"
   ]
  },
  {
   "cell_type": "code",
   "execution_count": null,
   "metadata": {},
   "outputs": [],
   "source": [
    "# Eliminar la columna price2\n",
    "\n",
    "df.drop([\"price2\"], axis='columns', inplace=True)"
   ]
  },
  {
   "cell_type": "code",
   "execution_count": null,
   "metadata": {},
   "outputs": [],
   "source": [
    "df.columns"
   ]
  },
  {
   "cell_type": "markdown",
   "metadata": {},
   "source": [
    "<h1 id = \"data_standardization\"> 2.- Estandarización de datos </h1>\n",
    "<p>\n",
    "Los datos generalmente se recopilan de diferentes formatos.\n",
    "(La estandarización de datos también es un término para un tipo particular de normalización de datos, donde restamos la media y la dividimos por la desviación estándar)\n",
    "</p>\n",
    "    \n",
    "<b> ¿Qué es la estandarización? </b>\n",
    "<p> La estandarización es el proceso de transformación de datos en un formato común que permite al investigador hacer una comparación significativa.\n",
    "</p>\n",
    "\n",
    "<b> Ejemplo </b>\n",
    "<p> Transformar mpg a km: </p>\n",
    "<p> En nuestro conjunto de datos, las columnas de consumo de combustible \"city-mpg\" y \"highway-mpg\" están representadas por unidad de mpg (millas por galón). Supongamos que estamos desarrollando una aplicación donde que acepta el consumo de combustible con el estándar km </p>\n",
    "<p> Tendremos que aplicar <b> transformación de datos </b> para transformar mpg en km? </p>"
   ]
  },
  {
   "cell_type": "code",
   "execution_count": null,
   "metadata": {},
   "outputs": [],
   "source": [
    "df.head()"
   ]
  },
  {
   "cell_type": "code",
   "execution_count": null,
   "metadata": {},
   "outputs": [],
   "source": [
    "# Convirtiendo mpg a km : (235 dividido por mpg)\n",
    "df['city-km'] = round(235/df[\"city-mpg\"],3)\n",
    "\n",
    "# mostramos datos\n",
    "df[['city-mpg','city-km']].head()"
   ]
  },
  {
   "cell_type": "code",
   "execution_count": null,
   "metadata": {},
   "outputs": [],
   "source": [
    "df.columns"
   ]
  },
  {
   "cell_type": "markdown",
   "metadata": {},
   "source": [
    "### Ejercicio , transformar la variables predictora \"highway-mpg\" a kilometros en la nueva variable predictora \"highway-km\""
   ]
  },
  {
   "cell_type": "code",
   "execution_count": null,
   "metadata": {},
   "outputs": [],
   "source": [
    "df['highway-km'] = round(235/df[\"highway-mpg\"],3)\n",
    "df.columns"
   ]
  },
  {
   "cell_type": "markdown",
   "metadata": {},
   "source": [
    "\n",
    "<h2 id = \"data_normalization\"> 3.- Normalización de datos </h2>\n",
    "\n",
    "<b> ¿Por qué la normalización? </b>\n",
    "<p> La normalización es el proceso de transformar valores de varias variables en un rango similar. Las normalizaciones típicas incluyen escalar la variable para que el promedio de la variable sea 0, escalar la variable para que la varianza sea 1 o escalar la variable para que los valores de la variable varíen de 0 a 1\n",
    "</p>\n",
    "\n",
    "<b> Ejemplo </b>\n",
    "<p> Para demostrar la normalización, digamos que queremos cambiar la escala de \"length\", \"width\" y  \"height\"</p>\n",
    "<p> <b> Objetivo: </b> desea Normalizar estas variables para que su valor oscile entre 0 y 1. </p>\n",
    "<p> <b> Enfoque: </b> reemplace el valor original por (valor original) / (valor máximo) </p>"
   ]
  },
  {
   "cell_type": "code",
   "execution_count": null,
   "metadata": {},
   "outputs": [],
   "source": [
    "# replace (original value) by (original value)/(maximum value)\n",
    "df['length'] = df['length']/df['length'].max()\n",
    "df['width'] = df['width']/df['width'].max()"
   ]
  },
  {
   "cell_type": "code",
   "execution_count": null,
   "metadata": {},
   "outputs": [],
   "source": [
    "# mostramos datos\n",
    "df[['length','width']].head()"
   ]
  },
  {
   "cell_type": "markdown",
   "metadata": {},
   "source": [
    "### Ejercicio , normalizar la variable predictora \"height\""
   ]
  },
  {
   "cell_type": "code",
   "execution_count": null,
   "metadata": {},
   "outputs": [],
   "source": [
    "df['height'] = df['height']/df['height'].max()"
   ]
  },
  {
   "cell_type": "markdown",
   "metadata": {},
   "source": [
    "<h2 id = \"binning\"> 4.- Binning </h2>\n",
    "\n",
    "<b> ¿Por qué binning? </b>\n",
    "<p>\n",
    "    Binning es un proceso de transformación de variables numéricas continuas en variables categóricos discretos.\n",
    "</p>\n",
    "\n",
    "<b> Ejemplo: </b>\n",
    "<p> En nuestro conjunto de datos, \"horsepower\" es una variable con un valor real que oscila entre 48 y 288, tiene 57 valores únicos. ¿Qué sucede si solo nos importa la diferencia de precio entre los automóviles con high horsepower, medium horsepower, y little horsepower (3 tipos)? ¿Podemos reorganizarlos en tres 'categorias' para simplificar el análisis? </p>\n",
    "\n",
    "<p> Usaremos el método Pandas 'cut' para segmentar la columna 'caballos de fuerza' en 3 bins </p>"
   ]
  },
  {
   "cell_type": "code",
   "execution_count": null,
   "metadata": {},
   "outputs": [],
   "source": [
    "df[\"horsepower\"]=df[\"horsepower\"].astype(int, copy=True)"
   ]
  },
  {
   "cell_type": "code",
   "execution_count": null,
   "metadata": {},
   "outputs": [],
   "source": [
    "# %matplotlib inline\n",
    "import matplotlib as plt\n",
    "from matplotlib import pyplot\n",
    "\n",
    "plt.pyplot.hist(df[\"horsepower\"])\n",
    "\n",
    "# set x , y labels y titulo\n",
    "plt.pyplot.xlabel(\"horsepower\")\n",
    "plt.pyplot.ylabel(\"nro. veces\")\n",
    "plt.pyplot.title(\"horsepower bins\")"
   ]
  },
  {
   "cell_type": "code",
   "execution_count": null,
   "metadata": {},
   "outputs": [],
   "source": [
    "lista = np.linspace(10,20,4) # Cuando hay 4 puntos de cortes, existe 4-1 intervalos\n",
    "#lista\n",
    "for i in lista : print(i)\n",
    "    \n",
    "#. 10 --- 15 --- 20 \n",
    "    "
   ]
  },
  {
   "cell_type": "code",
   "execution_count": null,
   "metadata": {},
   "outputs": [],
   "source": [
    "# Genera puntos de corte \n",
    "\n",
    "minimo = min(df[\"horsepower\"])\n",
    "maximo = max(df[\"horsepower\"])\n",
    "punto_de_corte = 4\n",
    "bins = np.linspace(minimo,maximo,punto_de_corte)\n",
    "bins"
   ]
  },
  {
   "cell_type": "code",
   "execution_count": null,
   "metadata": {},
   "outputs": [],
   "source": [
    "bins_custom = [48, 100, 200, 262]"
   ]
  },
  {
   "cell_type": "code",
   "execution_count": null,
   "metadata": {},
   "outputs": [],
   "source": [
    "group_names = ['Bajo', 'Medio', 'Alto']"
   ]
  },
  {
   "cell_type": "code",
   "execution_count": null,
   "metadata": {},
   "outputs": [],
   "source": [
    "df['horsepower-binned'] = \\\n",
    "        pd.cut(df['horsepower'], bins, labels=group_names, include_lowest=True )\n",
    "\n",
    "#\n",
    "df[['horsepower','horsepower-binned']].head()"
   ]
  },
  {
   "cell_type": "code",
   "execution_count": null,
   "metadata": {},
   "outputs": [],
   "source": [
    "df[\"horsepower-binned\"].value_counts()"
   ]
  },
  {
   "cell_type": "code",
   "execution_count": null,
   "metadata": {},
   "outputs": [],
   "source": [
    "# %matplotlib inline\n",
    "import matplotlib as plt\n",
    "from matplotlib import pyplot\n",
    "pyplot.bar(group_names, df[\"horsepower-binned\"].value_counts())\n",
    "\n",
    "# set x/y labels and plot title\n",
    "plt.pyplot.xlabel(\"horsepower\")\n",
    "plt.pyplot.ylabel(\"nro. veces\")\n",
    "plt.pyplot.title(\"horsepower bins\")"
   ]
  },
  {
   "cell_type": "code",
   "execution_count": null,
   "metadata": {},
   "outputs": [],
   "source": [
    "# %matplotlib inline\n",
    "import matplotlib as plt\n",
    "from matplotlib import pyplot\n",
    "\n",
    "a = (0,1,2)\n",
    "\n",
    "# draw historgram of attribute \"horsepower\" with bins = 3\n",
    "plt.pyplot.hist(df[\"horsepower\"], bins = 3)\n",
    "\n",
    "# set x/y labels and plot title\n",
    "plt.pyplot.xlabel(\"horsepower\")\n",
    "plt.pyplot.ylabel(\"nro. veces\")\n",
    "plt.pyplot.title(\"horsepower bins\")"
   ]
  },
  {
   "cell_type": "markdown",
   "metadata": {},
   "source": [
    "<h2 id=\"indicator\">Variables Dummy</h2>\n"
   ]
  },
  {
   "cell_type": "code",
   "execution_count": null,
   "metadata": {},
   "outputs": [],
   "source": [
    "df.columns"
   ]
  },
  {
   "cell_type": "code",
   "execution_count": null,
   "metadata": {},
   "outputs": [],
   "source": [
    "df[\"fuel-type\"].head()"
   ]
  },
  {
   "cell_type": "code",
   "execution_count": null,
   "metadata": {},
   "outputs": [],
   "source": [
    "df[\"fuel-type\"].value_counts()"
   ]
  },
  {
   "cell_type": "code",
   "execution_count": null,
   "metadata": {},
   "outputs": [],
   "source": [
    "dummy_variable_1 = pd.get_dummies(df[\"fuel-type\"])\n",
    "dummy_variable_1.head()"
   ]
  },
  {
   "cell_type": "code",
   "execution_count": null,
   "metadata": {},
   "outputs": [],
   "source": [
    "dummy_variable_1.rename(columns={'gas':'fuel-type-gas', 'diesel':'fuel-type-diesel'}, inplace=True)\n",
    "dummy_variable_1.head()"
   ]
  },
  {
   "cell_type": "code",
   "execution_count": null,
   "metadata": {},
   "outputs": [],
   "source": [
    "df = pd.concat([df, dummy_variable_1], axis=1)"
   ]
  },
  {
   "cell_type": "code",
   "execution_count": null,
   "metadata": {},
   "outputs": [],
   "source": [
    "df.columns"
   ]
  },
  {
   "cell_type": "code",
   "execution_count": null,
   "metadata": {},
   "outputs": [],
   "source": [
    "df[[\"fuel-type\",\"fuel-type-gas\",\"fuel-type-diesel\"]].tail(10)"
   ]
  },
  {
   "cell_type": "code",
   "execution_count": null,
   "metadata": {},
   "outputs": [],
   "source": [
    "df.drop(\"fuel-type\", axis = 1, inplace=True)"
   ]
  },
  {
   "cell_type": "code",
   "execution_count": null,
   "metadata": {},
   "outputs": [],
   "source": [
    "### Ejercicio : crear variables dummy para \"aspiration\" con "
   ]
  },
  {
   "cell_type": "code",
   "execution_count": null,
   "metadata": {},
   "outputs": [],
   "source": []
  },
  {
   "cell_type": "code",
   "execution_count": null,
   "metadata": {},
   "outputs": [],
   "source": [
    "df.to_csv('autos_datos_limpios_df.csv')"
   ]
  },
  {
   "cell_type": "code",
   "execution_count": null,
   "metadata": {},
   "outputs": [],
   "source": [
    "df.head()"
   ]
  },
  {
   "cell_type": "code",
   "execution_count": null,
   "metadata": {},
   "outputs": [],
   "source": []
  },
  {
   "cell_type": "code",
   "execution_count": null,
   "metadata": {},
   "outputs": [],
   "source": []
  }
 ],
 "metadata": {
  "kernelspec": {
   "display_name": "Python 3 (ipykernel)",
   "language": "python",
   "name": "python3"
  },
  "language_info": {
   "codemirror_mode": {
    "name": "ipython",
    "version": 3
   },
   "file_extension": ".py",
   "mimetype": "text/x-python",
   "name": "python",
   "nbconvert_exporter": "python",
   "pygments_lexer": "ipython3",
   "version": "3.9.7"
  }
 },
 "nbformat": 4,
 "nbformat_minor": 2
}
